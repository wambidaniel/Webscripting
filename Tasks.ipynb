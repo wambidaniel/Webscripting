{
 "cells": [
  {
   "cell_type": "code",
   "execution_count": 5,
   "metadata": {},
   "outputs": [
    {
     "ename": "NameError",
     "evalue": "name 'requests' is not defined",
     "output_type": "error",
     "traceback": [
      "\u001b[1;31m---------------------------------------------------------------------------\u001b[0m",
      "\u001b[1;31mNameError\u001b[0m                                 Traceback (most recent call last)",
      "Cell \u001b[1;32mIn[5], line 3\u001b[0m\n\u001b[0;32m      1\u001b[0m \u001b[39m#Load the web page\u001b[39;00m\n\u001b[0;32m      2\u001b[0m \u001b[39m#laod the webpage\u001b[39;00m\n\u001b[1;32m----> 3\u001b[0m r \u001b[39m=\u001b[39m requests\u001b[39m.\u001b[39mget(\u001b[39m\"\u001b[39m\u001b[39mhttps://keithgalli.github.io/web-scraping/webpage.html\u001b[39m\u001b[39m\"\u001b[39m)\n\u001b[0;32m      5\u001b[0m \u001b[39m#convert to a beautiful soup object\u001b[39;00m\n\u001b[0;32m      6\u001b[0m webpage \u001b[39m=\u001b[39m bs(r\u001b[39m.\u001b[39mcontent)\n",
      "\u001b[1;31mNameError\u001b[0m: name 'requests' is not defined"
     ]
    }
   ],
   "source": [
    "#Load the web page\n",
    "#laod the webpage\n",
    "r = requests.get(\"https://keithgalli.github.io/web-scraping/webpage.html\")\n",
    "\n",
    "#convert to a beautiful soup object\n",
    "webpage = bs(r.content)\n",
    "\n",
    "print(webpage.prettify())"
   ]
  },
  {
   "cell_type": "markdown",
   "metadata": {},
   "source": []
  }
 ],
 "metadata": {
  "kernelspec": {
   "display_name": "Python 3",
   "language": "python",
   "name": "python3"
  },
  "language_info": {
   "codemirror_mode": {
    "name": "ipython",
    "version": 3
   },
   "file_extension": ".py",
   "mimetype": "text/x-python",
   "name": "python",
   "nbconvert_exporter": "python",
   "pygments_lexer": "ipython3",
   "version": "3.11.2"
  },
  "orig_nbformat": 4,
  "vscode": {
   "interpreter": {
    "hash": "9fd10e4b12ca6bd3f48c2b8ab18dc693e6e59f9b945f35337081b45127d3f5be"
   }
  }
 },
 "nbformat": 4,
 "nbformat_minor": 2
}
